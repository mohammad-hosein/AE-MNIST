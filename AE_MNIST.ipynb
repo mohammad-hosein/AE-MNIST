{
  "nbformat": 4,
  "nbformat_minor": 0,
  "metadata": {
    "colab": {
      "name": "AE-MNIST.ipynb",
      "provenance": [],
      "collapsed_sections": [],
      "toc_visible": true,
      "include_colab_link": true
    },
    "kernelspec": {
      "name": "python3",
      "display_name": "Python 3"
    },
    "language_info": {
      "name": "python"
    },
    "accelerator": "GPU"
  },
  "cells": [
    {
      "cell_type": "markdown",
      "metadata": {
        "id": "view-in-github",
        "colab_type": "text"
      },
      "source": [
        "<a href=\"https://colab.research.google.com/github/mohammad-hosein/AE-MNIST/blob/main/AE_MNIST.ipynb\" target=\"_parent\"><img src=\"https://colab.research.google.com/assets/colab-badge.svg\" alt=\"Open In Colab\"/></a>"
      ]
    },
    {
      "cell_type": "code",
      "metadata": {
        "id": "f81ZyBYEUVqm"
      },
      "source": [
        "import tensorflow as tf\n",
        "from tensorflow.keras.layers import Conv2D, Conv2DTranspose, Flatten, LeakyReLU, Dense, Input, Reshape, Activation, BatchNormalization\n",
        "from tensorflow.keras.models import Model\n",
        "from tensorflow.keras import backend as K"
      ],
      "execution_count": null,
      "outputs": []
    },
    {
      "cell_type": "code",
      "metadata": {
        "id": "NmaW0EyxWmM7"
      },
      "source": [
        "import cv2\n",
        "import numpy as np\n",
        "import matplotlib.pyplot as plt"
      ],
      "execution_count": null,
      "outputs": []
    },
    {
      "cell_type": "markdown",
      "metadata": {
        "id": "BmSgvGayW35g"
      },
      "source": [
        "# Encoder"
      ]
    },
    {
      "cell_type": "code",
      "metadata": {
        "id": "TjUtnV7TW2Hm"
      },
      "source": [
        "inputs =  Input(shape=(28,28,1))\n",
        "x = inputs\n",
        "\n",
        "x = Conv2D(32, (3,3), strides=2, padding='same')(x)\n",
        "x = LeakyReLU(alpha=0.2)(x)\n",
        "x = BatchNormalization(axis=-1)(x)\n",
        "\n",
        "x = Conv2D(64, (3,3), strides=2, padding='same')(x)\n",
        "x = LeakyReLU(alpha=0.2)(x)\n",
        "x = BatchNormalization(axis=-1)(x)\n",
        "\n",
        "VolumeSize = K.int_shape(x)\n",
        "\n",
        "x = Flatten()(x)\n",
        "latent = Dense(10,activation='sigmoid')(x)"
      ],
      "execution_count": null,
      "outputs": []
    },
    {
      "cell_type": "code",
      "metadata": {
        "colab": {
          "base_uri": "https://localhost:8080/"
        },
        "id": "1fVB3EtsYV_0",
        "outputId": "aadaaed3-7001-4c01-a50b-e352db7b1647"
      },
      "source": [
        "encoder = Model(inputs, latent, name='encoder')\n",
        "encoder.summary()"
      ],
      "execution_count": null,
      "outputs": [
        {
          "output_type": "stream",
          "text": [
            "Model: \"encoder\"\n",
            "_________________________________________________________________\n",
            "Layer (type)                 Output Shape              Param #   \n",
            "=================================================================\n",
            "input_1 (InputLayer)         [(None, 28, 28, 1)]       0         \n",
            "_________________________________________________________________\n",
            "conv2d (Conv2D)              (None, 14, 14, 32)        320       \n",
            "_________________________________________________________________\n",
            "leaky_re_lu (LeakyReLU)      (None, 14, 14, 32)        0         \n",
            "_________________________________________________________________\n",
            "batch_normalization (BatchNo (None, 14, 14, 32)        128       \n",
            "_________________________________________________________________\n",
            "conv2d_1 (Conv2D)            (None, 7, 7, 64)          18496     \n",
            "_________________________________________________________________\n",
            "leaky_re_lu_1 (LeakyReLU)    (None, 7, 7, 64)          0         \n",
            "_________________________________________________________________\n",
            "batch_normalization_1 (Batch (None, 7, 7, 64)          256       \n",
            "_________________________________________________________________\n",
            "flatten (Flatten)            (None, 3136)              0         \n",
            "_________________________________________________________________\n",
            "dense (Dense)                (None, 10)                31370     \n",
            "=================================================================\n",
            "Total params: 50,570\n",
            "Trainable params: 50,378\n",
            "Non-trainable params: 192\n",
            "_________________________________________________________________\n"
          ],
          "name": "stdout"
        }
      ]
    },
    {
      "cell_type": "markdown",
      "metadata": {
        "id": "VIGqbi5BZfgw"
      },
      "source": [
        "# Decoder"
      ]
    },
    {
      "cell_type": "code",
      "metadata": {
        "colab": {
          "base_uri": "https://localhost:8080/"
        },
        "id": "hOgjqnHTaMRg",
        "outputId": "47b8c32b-5a87-4479-ad06-b546f3b0a9c9"
      },
      "source": [
        "VolumeSize"
      ],
      "execution_count": null,
      "outputs": [
        {
          "output_type": "execute_result",
          "data": {
            "text/plain": [
              "(None, 7, 7, 64)"
            ]
          },
          "metadata": {
            "tags": []
          },
          "execution_count": 6
        }
      ]
    },
    {
      "cell_type": "code",
      "metadata": {
        "id": "q-v8eFXxYZNg"
      },
      "source": [
        "latent_input = Input(shape=(10))\n",
        "x = Dense(np.prod(VolumeSize[1:]))(latent_input)\n",
        "x = Reshape(VolumeSize[1:])(x)\n",
        "\n",
        "x = Conv2DTranspose(64, (3,3), strides=2, padding='same')(x)\n",
        "x = LeakyReLU(alpha=0.2)(x)\n",
        "x = BatchNormalization(axis=-1)(x)\n",
        "\n",
        "x = Conv2DTranspose(32, (3,3), strides=2, padding='same')(x)\n",
        "x = LeakyReLU(alpha=0.2)(x)\n",
        "x = BatchNormalization(axis=-1)(x)\n",
        "\n",
        "x = Conv2DTranspose(1, (3,3), strides=1, padding='same')(x)\n",
        "output = Activation('sigmoid')(x)"
      ],
      "execution_count": null,
      "outputs": []
    },
    {
      "cell_type": "code",
      "metadata": {
        "colab": {
          "base_uri": "https://localhost:8080/"
        },
        "id": "JB_gmji7bJed",
        "outputId": "4842541c-a917-42b5-a070-e34a95e94dcb"
      },
      "source": [
        "decoder = Model(latent_input, output, name='decoder')\n",
        "decoder.summary()"
      ],
      "execution_count": null,
      "outputs": [
        {
          "output_type": "stream",
          "text": [
            "Model: \"decoder\"\n",
            "_________________________________________________________________\n",
            "Layer (type)                 Output Shape              Param #   \n",
            "=================================================================\n",
            "input_2 (InputLayer)         [(None, 10)]              0         \n",
            "_________________________________________________________________\n",
            "dense_1 (Dense)              (None, 3136)              34496     \n",
            "_________________________________________________________________\n",
            "reshape (Reshape)            (None, 7, 7, 64)          0         \n",
            "_________________________________________________________________\n",
            "conv2d_transpose (Conv2DTran (None, 14, 14, 64)        36928     \n",
            "_________________________________________________________________\n",
            "leaky_re_lu_2 (LeakyReLU)    (None, 14, 14, 64)        0         \n",
            "_________________________________________________________________\n",
            "batch_normalization_2 (Batch (None, 14, 14, 64)        256       \n",
            "_________________________________________________________________\n",
            "conv2d_transpose_1 (Conv2DTr (None, 28, 28, 32)        18464     \n",
            "_________________________________________________________________\n",
            "leaky_re_lu_3 (LeakyReLU)    (None, 28, 28, 32)        0         \n",
            "_________________________________________________________________\n",
            "batch_normalization_3 (Batch (None, 28, 28, 32)        128       \n",
            "_________________________________________________________________\n",
            "conv2d_transpose_2 (Conv2DTr (None, 28, 28, 1)         289       \n",
            "_________________________________________________________________\n",
            "activation (Activation)      (None, 28, 28, 1)         0         \n",
            "=================================================================\n",
            "Total params: 90,561\n",
            "Trainable params: 90,369\n",
            "Non-trainable params: 192\n",
            "_________________________________________________________________\n"
          ],
          "name": "stdout"
        }
      ]
    },
    {
      "cell_type": "markdown",
      "metadata": {
        "id": "-2ooH9UIdKM7"
      },
      "source": [
        "# Autoencoder"
      ]
    },
    {
      "cell_type": "code",
      "metadata": {
        "colab": {
          "base_uri": "https://localhost:8080/"
        },
        "id": "AsLX6T-eb1SP",
        "outputId": "2e61c3bc-0901-4581-b1da-3963b05fae83"
      },
      "source": [
        "autoencoder = Model(inputs, decoder(encoder(inputs)), name='autoencoder')\n",
        "autoencoder.summary()"
      ],
      "execution_count": null,
      "outputs": [
        {
          "output_type": "stream",
          "text": [
            "Model: \"autoencoder\"\n",
            "_________________________________________________________________\n",
            "Layer (type)                 Output Shape              Param #   \n",
            "=================================================================\n",
            "input_1 (InputLayer)         [(None, 28, 28, 1)]       0         \n",
            "_________________________________________________________________\n",
            "encoder (Functional)         (None, 10)                50570     \n",
            "_________________________________________________________________\n",
            "decoder (Functional)         (None, 28, 28, 1)         90561     \n",
            "=================================================================\n",
            "Total params: 141,131\n",
            "Trainable params: 140,747\n",
            "Non-trainable params: 384\n",
            "_________________________________________________________________\n"
          ],
          "name": "stdout"
        }
      ]
    },
    {
      "cell_type": "markdown",
      "metadata": {
        "id": "QCaVRlmwhHeh"
      },
      "source": [
        "# mnist"
      ]
    },
    {
      "cell_type": "code",
      "metadata": {
        "id": "SzOs2Wekf7Tp"
      },
      "source": [
        "from tensorflow.keras.datasets import mnist\n",
        "((trainX, _), (testX, _)) = mnist.load_data()"
      ],
      "execution_count": null,
      "outputs": []
    },
    {
      "cell_type": "code",
      "metadata": {
        "id": "QZ3QTuQ8hf7h"
      },
      "source": [
        "trainX = np.expand_dims(trainX, axis=-1)/255.0\n",
        "testX = np.expand_dims(testX, axis=-1)/255.0"
      ],
      "execution_count": null,
      "outputs": []
    },
    {
      "cell_type": "code",
      "metadata": {
        "colab": {
          "base_uri": "https://localhost:8080/",
          "height": 282
        },
        "id": "rEzXOMwXhiQh",
        "outputId": "7b13e28a-a4ca-42db-a1ea-071caf369d64"
      },
      "source": [
        "plt.imshow(trainX[5].reshape(trainX[0].shape[:-1]))"
      ],
      "execution_count": null,
      "outputs": [
        {
          "output_type": "execute_result",
          "data": {
            "text/plain": [
              "<matplotlib.image.AxesImage at 0x7f5f5e1b5c90>"
            ]
          },
          "metadata": {
            "tags": []
          },
          "execution_count": 12
        },
        {
          "output_type": "display_data",
          "data": {
            "image/png": "[encoded data removed]",
            "text/plain": [
              "<Figure size 432x288 with 1 Axes>"
            ]
          },
          "metadata": {
            "tags": [],
            "needs_background": "light"
          }
        }
      ]
    },
    {
      "cell_type": "markdown",
      "metadata": {
        "id": "ouF3W0dMiLKb"
      },
      "source": [
        "# training"
      ]
    },
    {
      "cell_type": "code",
      "metadata": {
        "id": "fJUBHnYCh6fA"
      },
      "source": [
        "from tensorflow.keras.optimizers import Adam\n",
        "\n",
        "opt = Adam(lr=1e-3)\n",
        "\n",
        "autoencoder.compile(loss='mse', optimizer=opt)"
      ],
      "execution_count": null,
      "outputs": []
    },
    {
      "cell_type": "code",
      "metadata": {
        "colab": {
          "base_uri": "https://localhost:8080/"
        },
        "id": "sYubfyVjiDH_",
        "outputId": "20e45bdd-a177-4f88-9981-e12831d7b284"
      },
      "source": [
        "hist = autoencoder.fit(trainX, trainX, epochs=5, batch_size=32, validation_data=(testX, testX))"
      ],
      "execution_count": null,
      "outputs": [
        {
          "output_type": "stream",
          "text": [
            "Epoch 1/5\n",
            "1875/1875 [==============================] - 10s 4ms/step - loss: 0.0556 - val_loss: 0.0211\n",
            "Epoch 2/5\n",
            "1875/1875 [==============================] - 7s 4ms/step - loss: 0.0205 - val_loss: 0.0174\n",
            "Epoch 3/5\n",
            "1875/1875 [==============================] - 7s 4ms/step - loss: 0.0177 - val_loss: 0.0174\n",
            "Epoch 4/5\n",
            "1875/1875 [==============================] - 7s 4ms/step - loss: 0.0164 - val_loss: 0.0154\n",
            "Epoch 5/5\n",
            "1875/1875 [==============================] - 7s 4ms/step - loss: 0.0155 - val_loss: 0.0154\n"
          ],
          "name": "stdout"
        }
      ]
    },
    {
      "cell_type": "code",
      "metadata": {
        "colab": {
          "base_uri": "https://localhost:8080/",
          "height": 283
        },
        "id": "EN4A00_rkSBd",
        "outputId": "42c6a730-e6f1-40cb-9542-49686f9aa6b8"
      },
      "source": [
        "n = np.arange(0, 5)\n",
        "plt.figure()\n",
        "plt.plot(n, hist.history['loss'])\n",
        "plt.plot(n, hist.history['val_loss'])"
      ],
      "execution_count": null,
      "outputs": [
        {
          "output_type": "execute_result",
          "data": {
            "text/plain": [
              "[<matplotlib.lines.Line2D at 0x7f5f57d82a10>]"
            ]
          },
          "metadata": {
            "tags": []
          },
          "execution_count": 15
        },
        {
          "output_type": "display_data",
          "data": {
            "image/png": "[encoded data removed]",
            "text/plain": [
              "<Figure size 432x288 with 1 Axes>"
            ]
          },
          "metadata": {
            "tags": [],
            "needs_background": "light"
          }
        }
      ]
    },
    {
      "cell_type": "markdown",
      "metadata": {
        "id": "ydXCs5qoWXEY"
      },
      "source": [
        "# UNIFORM RANDOM ***VARIABLE***"
      ]
    },
    {
      "cell_type": "code",
      "metadata": {
        "colab": {
          "base_uri": "https://localhost:8080/"
        },
        "id": "4zOKEnTBUKsd",
        "outputId": "78a9824e-78e0-4b17-d048-6331c38d58d9"
      },
      "source": [
        "OMEGA1=tf.random.uniform(\n",
        "    shape=[1,10], minval=0, maxval=1, dtype=tf.dtypes.float32, seed=None, name=None)\n",
        "OMEGA1.shape"
      ],
      "execution_count": null,
      "outputs": [
        {
          "output_type": "execute_result",
          "data": {
            "text/plain": [
              "TensorShape([1, 10])"
            ]
          },
          "metadata": {
            "tags": []
          },
          "execution_count": 87
        }
      ]
    },
    {
      "cell_type": "code",
      "metadata": {
        "colab": {
          "base_uri": "https://localhost:8080/",
          "height": 282
        },
        "id": "JMd7D1VmVIWj",
        "outputId": "11859a07-3a4b-465f-adca-77115f143ea7"
      },
      "source": [
        "o = decoder(OMEGA1)\n",
        "o = np.array(o)\n",
        "plt.imshow(o.reshape(o.shape[1:-1]))"
      ],
      "execution_count": null,
      "outputs": [
        {
          "output_type": "execute_result",
          "data": {
            "text/plain": [
              "<matplotlib.image.AxesImage at 0x7f5f2e0a1f50>"
            ]
          },
          "metadata": {
            "tags": []
          },
          "execution_count": 88
        },
        {
          "output_type": "display_data",
          "data": {
            "image/png": "[encoded data removed]",
            "text/plain": [
              "<Figure size 432x288 with 1 Axes>"
            ]
          },
          "metadata": {
            "tags": [],
            "needs_background": "light"
          }
        }
      ]
    },
    {
      "cell_type": "code",
      "metadata": {
        "colab": {
          "base_uri": "https://localhost:8080/"
        },
        "id": "ElBWGfnRUk52",
        "outputId": "fbb5c9a2-1250-4e13-914a-4ef824ce9030"
      },
      "source": [
        "OMEGA2=tf.random.uniform(\n",
        "    shape=[1,10], minval=0, maxval=1, dtype=tf.dtypes.float32, seed=None, name=None)\n",
        "OMEGA2.shape"
      ],
      "execution_count": null,
      "outputs": [
        {
          "output_type": "execute_result",
          "data": {
            "text/plain": [
              "TensorShape([1, 10])"
            ]
          },
          "metadata": {
            "tags": []
          },
          "execution_count": 60
        }
      ]
    },
    {
      "cell_type": "code",
      "metadata": {
        "colab": {
          "base_uri": "https://localhost:8080/",
          "height": 282
        },
        "id": "PKRDNl0VUk-5",
        "outputId": "68ee729f-ade6-4031-b8ab-a85cd7a0b1cb"
      },
      "source": [
        "o = decoder(OMEGA2)\n",
        "o = np.array(o)\n",
        "plt.imshow(o.reshape(o.shape[1:-1]))"
      ],
      "execution_count": null,
      "outputs": [
        {
          "output_type": "execute_result",
          "data": {
            "text/plain": [
              "<matplotlib.image.AxesImage at 0x7f5f572dfb90>"
            ]
          },
          "metadata": {
            "tags": []
          },
          "execution_count": 61
        },
        {
          "output_type": "display_data",
          "data": {
            "image/png": "[encoded data removed]",
            "text/plain": [
              "<Figure size 432x288 with 1 Axes>"
            ]
          },
          "metadata": {
            "tags": [],
            "needs_background": "light"
          }
        }
      ]
    },
    {
      "cell_type": "code",
      "metadata": {
        "colab": {
          "base_uri": "https://localhost:8080/"
        },
        "id": "CbBCcS4yUlDx",
        "outputId": "141234d0-725a-4102-c135-c6571dc40655"
      },
      "source": [
        "OMEGA3=tf.random.uniform(\n",
        "    shape=[1,10], minval=0, maxval=1, dtype=tf.dtypes.float32, seed=None, name=None)\n",
        "OMEGA3.shape"
      ],
      "execution_count": null,
      "outputs": [
        {
          "output_type": "execute_result",
          "data": {
            "text/plain": [
              "TensorShape([1, 10])"
            ]
          },
          "metadata": {
            "tags": []
          },
          "execution_count": 89
        }
      ]
    },
    {
      "cell_type": "code",
      "metadata": {
        "colab": {
          "base_uri": "https://localhost:8080/",
          "height": 282
        },
        "id": "a5ZpLSmLUlIl",
        "outputId": "7376fa8c-ae54-4b8b-c782-622d1b0e2fa2"
      },
      "source": [
        "o = decoder(OMEGA3)\n",
        "o = np.array(o)\n",
        "plt.imshow(o.reshape(o.shape[1:-1]))"
      ],
      "execution_count": null,
      "outputs": [
        {
          "output_type": "execute_result",
          "data": {
            "text/plain": [
              "<matplotlib.image.AxesImage at 0x7f5f2e00f810>"
            ]
          },
          "metadata": {
            "tags": []
          },
          "execution_count": 90
        },
        {
          "output_type": "display_data",
          "data": {
            "image/png": "[encoded data removed]",
            "text/plain": [
              "<Figure size 432x288 with 1 Axes>"
            ]
          },
          "metadata": {
            "tags": [],
            "needs_background": "light"
          }
        }
      ]
    },
    {
      "cell_type": "code",
      "metadata": {
        "colab": {
          "base_uri": "https://localhost:8080/"
        },
        "id": "c_yuuU0mUlMp",
        "outputId": "8932bf2d-1c0a-420a-aa4f-9b3e06155938"
      },
      "source": [
        "OMEGA4=tf.random.uniform(\n",
        "    shape=[1,10], minval=0, maxval=1, dtype=tf.dtypes.float32, seed=None, name=None)\n",
        "OMEGA4.shape"
      ],
      "execution_count": null,
      "outputs": [
        {
          "output_type": "execute_result",
          "data": {
            "text/plain": [
              "TensorShape([1, 10])"
            ]
          },
          "metadata": {
            "tags": []
          },
          "execution_count": 99
        }
      ]
    },
    {
      "cell_type": "code",
      "metadata": {
        "colab": {
          "base_uri": "https://localhost:8080/",
          "height": 282
        },
        "id": "9eY3l3FUUlQy",
        "outputId": "49e18b7b-66a9-4191-b037-eafe3ba89191"
      },
      "source": [
        "o = decoder(OMEGA4)\n",
        "o = np.array(o)\n",
        "plt.imshow(o.reshape(o.shape[1:-1]))"
      ],
      "execution_count": null,
      "outputs": [
        {
          "output_type": "execute_result",
          "data": {
            "text/plain": [
              "<matplotlib.image.AxesImage at 0x7f5ede056f50>"
            ]
          },
          "metadata": {
            "tags": []
          },
          "execution_count": 100
        },
        {
          "output_type": "display_data",
          "data": {
            "image/png": "[encoded data removed]",
            "text/plain": [
              "<Figure size 432x288 with 1 Axes>"
            ]
          },
          "metadata": {
            "tags": [],
            "needs_background": "light"
          }
        }
      ]
    },
    {
      "cell_type": "code",
      "metadata": {
        "colab": {
          "base_uri": "https://localhost:8080/"
        },
        "id": "47akUB13UlVh",
        "outputId": "a7873034-4c57-48c6-9ea8-1498c3fdde9e"
      },
      "source": [
        "OMEGA5=tf.random.uniform(\n",
        "    shape=[1,10], minval=0, maxval=1, dtype=tf.dtypes.float32, seed=None, name=None)\n",
        "OMEGA5.shape"
      ],
      "execution_count": null,
      "outputs": [
        {
          "output_type": "execute_result",
          "data": {
            "text/plain": [
              "TensorShape([1, 10])"
            ]
          },
          "metadata": {
            "tags": []
          },
          "execution_count": 105
        }
      ]
    },
    {
      "cell_type": "code",
      "metadata": {
        "colab": {
          "base_uri": "https://localhost:8080/",
          "height": 282
        },
        "id": "OZBHGPiNUzcs",
        "outputId": "14cda7b2-7eb5-4ce3-b7f7-12767a638b34"
      },
      "source": [
        "o = decoder(OMEGA5)\n",
        "o = np.array(o)\n",
        "plt.imshow(o.reshape(o.shape[1:-1]))"
      ],
      "execution_count": null,
      "outputs": [
        {
          "output_type": "execute_result",
          "data": {
            "text/plain": [
              "<matplotlib.image.AxesImage at 0x7f5ed011ad10>"
            ]
          },
          "metadata": {
            "tags": []
          },
          "execution_count": 107
        },
        {
          "output_type": "display_data",
          "data": {
            "image/png": "[encoded data removed]",
            "text/plain": [
              "<Figure size 432x288 with 1 Axes>"
            ]
          },
          "metadata": {
            "tags": [],
            "needs_background": "light"
          }
        }
      ]
    },
    {
      "cell_type": "markdown",
      "metadata": {
        "id": "G8LKFdPgWtZL"
      },
      "source": [
        "# NORMAL RANDOM **VARIABLE** "
      ]
    },
    {
      "cell_type": "code",
      "metadata": {
        "id": "kOMZmDC4V3dX"
      },
      "source": [
        "OMEGA_NORMAL=tf.random.normal(\n",
        "    shape=[1,10], mean=0.5, stddev=0.3, dtype=tf.dtypes.float32, seed=None, name=None)"
      ],
      "execution_count": null,
      "outputs": []
    },
    {
      "cell_type": "code",
      "metadata": {
        "colab": {
          "base_uri": "https://localhost:8080/",
          "height": 282
        },
        "id": "8zQNDWQUWDjW",
        "outputId": "68ec449e-e07c-418c-f2a6-a10cb6398166"
      },
      "source": [
        "o = decoder(OMEGA_NORMAL)\n",
        "o = np.array(o)\n",
        "plt.imshow(o.reshape(o.shape[1:-1]))"
      ],
      "execution_count": null,
      "outputs": [
        {
          "output_type": "execute_result",
          "data": {
            "text/plain": [
              "<matplotlib.image.AxesImage at 0x7f5ec64957d0>"
            ]
          },
          "metadata": {
            "tags": []
          },
          "execution_count": 129
        },
        {
          "output_type": "display_data",
          "data": {
            "image/png": "[encoded data removed]",
            "text/plain": [
              "<Figure size 432x288 with 1 Axes>"
            ]
          },
          "metadata": {
            "tags": [],
            "needs_background": "light"
          }
        }
      ]
    }
  ]
}